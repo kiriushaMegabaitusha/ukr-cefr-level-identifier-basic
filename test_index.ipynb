{
 "cells": [
  {
   "cell_type": "code",
   "id": "initial_id",
   "metadata": {
    "collapsed": true,
    "ExecuteTime": {
     "end_time": "2024-05-22T20:42:05.392763Z",
     "start_time": "2024-05-22T20:42:05.362112Z"
    }
   },
   "source": [
    "def ARI_index(sent_count, word_count, char_count):\n",
    "    '''\n",
    "    \n",
    "    :param sent_count: integer, total number of sentences\n",
    "    :param word_count: integer, total number of words\n",
    "    :param char_count: integer, total number of characters\n",
    "    :return: ARI index, integer\n",
    "    '''\n",
    "    return 4.71*(char_count/word_count)+0.5*(word_count/sent_count)-21.43"
   ],
   "outputs": [],
   "execution_count": 32
  },
  {
   "metadata": {
    "ExecuteTime": {
     "end_time": "2024-05-22T20:42:06.350727Z",
     "start_time": "2024-05-22T20:42:06.334931Z"
    }
   },
   "cell_type": "code",
   "source": "from nltk.tokenize import word_tokenize, sent_tokenize",
   "id": "521a0deb55c9060a",
   "outputs": [],
   "execution_count": 33
  },
  {
   "metadata": {
    "ExecuteTime": {
     "end_time": "2024-05-22T20:44:41.931286Z",
     "start_time": "2024-05-22T20:44:41.893701Z"
    }
   },
   "cell_type": "code",
   "source": [
    "text = '''\n",
    "\n",
    "'''"
   ],
   "id": "190cf131e1533798",
   "outputs": [],
   "execution_count": 51
  },
  {
   "metadata": {
    "ExecuteTime": {
     "end_time": "2024-05-22T20:44:42.972261Z",
     "start_time": "2024-05-22T20:44:42.951879Z"
    }
   },
   "cell_type": "code",
   "source": [
    "sent_count = len(sent_tokenize(text))\n",
    "word_count = len(word_tokenize(text))\n",
    "char_count = len(text)"
   ],
   "id": "18aab13d924b1792",
   "outputs": [],
   "execution_count": 52
  },
  {
   "metadata": {
    "ExecuteTime": {
     "end_time": "2024-05-22T20:44:43.949790Z",
     "start_time": "2024-05-22T20:44:43.913927Z"
    }
   },
   "cell_type": "code",
   "source": "print(sent_count, word_count, char_count)",
   "id": "266a48654ecd307e",
   "outputs": [
    {
     "name": "stdout",
     "output_type": "stream",
     "text": [
      "17 218 1013\n"
     ]
    }
   ],
   "execution_count": 53
  },
  {
   "metadata": {
    "ExecuteTime": {
     "end_time": "2024-05-22T20:44:44.476962Z",
     "start_time": "2024-05-22T20:44:44.461326Z"
    }
   },
   "cell_type": "code",
   "source": "readability = ARI_index(sent_count, word_count, char_count)",
   "id": "30ee9ffdc67eef55",
   "outputs": [],
   "execution_count": 54
  },
  {
   "metadata": {
    "ExecuteTime": {
     "end_time": "2024-05-22T20:44:44.978282Z",
     "start_time": "2024-05-22T20:44:44.946211Z"
    }
   },
   "cell_type": "code",
   "source": "print(readability)",
   "id": "dcb5f664712198ab",
   "outputs": [
    {
     "name": "stdout",
     "output_type": "stream",
     "text": [
      "6.868140852671345\n"
     ]
    }
   ],
   "execution_count": 55
  },
  {
   "metadata": {},
   "cell_type": "code",
   "outputs": [],
   "execution_count": null,
   "source": "",
   "id": "389ad83efdbd0b2c"
  }
 ],
 "metadata": {
  "kernelspec": {
   "display_name": "mypyenv",
   "language": "python",
   "name": "mypyenv"
  },
  "language_info": {
   "codemirror_mode": {
    "name": "ipython",
    "version": 2
   },
   "file_extension": ".py",
   "mimetype": "text/x-python",
   "name": "python",
   "nbconvert_exporter": "python",
   "pygments_lexer": "ipython2",
   "version": "2.7.6"
  }
 },
 "nbformat": 4,
 "nbformat_minor": 5
}
